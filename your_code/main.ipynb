{
 "cells": [
  {
   "cell_type": "markdown",
   "metadata": {},
   "source": [
    "## Question 1\n",
    "The following table indicates the number of 6-point scores in an American rugby match in the 1979 season.\n",
    "\n",
    "![](table1.png)\n",
    "\n",
    "Based on these results, we create a Poisson distribution with the sample mean parameter  = 2.435. Is there any reason to believe that at a .05 level the number of scores is a Poisson variable?"
   ]
  },
  {
   "cell_type": "code",
   "execution_count": 1,
   "metadata": {},
   "outputs": [],
   "source": [
    "\n",
    "import numpy as np\n",
    "\n",
    "from scipy import stats"
   ]
  },
  {
   "cell_type": "code",
   "execution_count": 2,
   "metadata": {},
   "outputs": [
    {
     "data": {
      "text/plain": [
       "Power_divergenceResult(statistic=6.491310681109821, pvalue=0.4836889068537269)"
      ]
     },
     "execution_count": 2,
     "metadata": {},
     "output_type": "execute_result"
    }
   ],
   "source": [
    "\n",
    "\n",
    "\n",
    "## Number of observations\n",
    "obs = 448\n",
    "\n",
    "## Sample mean\n",
    "mu = 2.435\n",
    "\n",
    "## Number of times\n",
    "times = [35,99,104,110,62,25,10,3]\n",
    "\n",
    "## Numebr of scores\n",
    "scores = [0,1,2,3,4,5,6,7]\n",
    "\n",
    "## Calculate probability for seven observations from Poisson distribution\n",
    "probability = [stats.poisson.pmf(i, mu) for i in range(len(scores) -1)]\n",
    "\n",
    "\n",
    "## Probability for eight observation.\n",
    "## This probability is one minus sum of probabilitites for all other observations\n",
    "probability.append(1-sum(probability))\n",
    "\n",
    "\n",
    "## Calculate the expected value\n",
    "expected_value = [proba * obs for proba in probability]\n",
    "\n",
    "\n",
    "## Test if expected values are similar to actual values\n",
    "stats.chisquare(f_obs=times, f_exp=expected_value)"
   ]
  },
  {
   "cell_type": "code",
   "execution_count": null,
   "metadata": {},
   "outputs": [],
   "source": [
    "'''P-Values is more than 0.05 and hence we fail to reject H0 and conclude that sample data \n",
    "does follow Poisson distribution.**'''"
   ]
  },
  {
   "cell_type": "markdown",
   "metadata": {},
   "source": [
    "## BONUS/OPTIONAL - Question 2\n",
    "Let's analyze a discrete distribution. To analyze the number of defective items in a factory in the city of Medellín, we took a random sample of n = 60 articles and observed the number of defectives in the following table:\n",
    "\n",
    "![](table2.png)\n",
    "\n",
    "A poissón distribution was proposed since it is defined for x = 0,1,2,3, .... using the following model:\n",
    "\n",
    "![](image1.png)\n",
    "\n",
    "For some extra insights check the following link: https://online.stat.psu.edu/stat504/node/63/ \n",
    "\n",
    "Does the distribution of defective items follow this distribution?"
   ]
  },
  {
   "cell_type": "code",
   "execution_count": 3,
   "metadata": {},
   "outputs": [
    {
     "data": {
      "text/plain": [
       "Power_divergenceResult(statistic=37.72656768931596, pvalue=1.2759420913385983e-07)"
      ]
     },
     "execution_count": 3,
     "metadata": {},
     "output_type": "execute_result"
    }
   ],
   "source": [
    "# your code here\n",
    "\n",
    "\n",
    "## Number of observations\n",
    "obs = 60\n",
    "\n",
    "## Number of defective items\n",
    "defect_items = [0, 1, 2, 3, 4]\n",
    "\n",
    "## Observed frequency\n",
    "observed_freq = [32, 15, 0, 9, 4]\n",
    "\n",
    "## Sample mean\n",
    "mu = (0*32 + 1*15 + 2*0 + 3*9 + 4*4) / obs \n",
    "\n",
    "\n",
    "## Calculate probability for five observations from Poisson distribution\n",
    "probability = [stats.poisson.pmf(i, mu) for i in range(len(defect_items))]\n",
    "\n",
    "\n",
    "## Calculate the expected value\n",
    "expected_value = [proba * obs for proba in probability]\n",
    "\n",
    "\n",
    "## Test if expected values are similar to actual values\n",
    "stats.chisquare(f_obs=observed_freq, f_exp=expected_value)"
   ]
  },
  {
   "cell_type": "code",
   "execution_count": null,
   "metadata": {},
   "outputs": [],
   "source": [
    "'''P-Value is less than 0.05 and we reject the null hypothesis and\n",
    "conclude that the sample does not follow Poisson distribution**'''"
   ]
  },
  {
   "cell_type": "markdown",
   "metadata": {},
   "source": [
    "## Question 3\n",
    "A quality control engineer takes a sample of 10 tires that come out of an assembly line, and would like to verify on the basis of the data that follows, if the number of tires with defects observed over 200 days, if it is true that 5% of all tires have defects (that is, if the sample comes from a binomial population with n = 10 and p = 0.05). \n",
    "\n",
    "![](table3.png)\n"
   ]
  },
  {
   "cell_type": "code",
   "execution_count": 4,
   "metadata": {},
   "outputs": [
    {
     "data": {
      "text/plain": [
       "Power_divergenceResult(statistic=8.30617951954273, pvalue=0.015715783395951474)"
      ]
     },
     "execution_count": 4,
     "metadata": {},
     "output_type": "execute_result"
    }
   ],
   "source": [
    "# your answer here\n",
    "\n",
    "## Number of observations\n",
    "obs = 200\n",
    "\n",
    "## Sample size\n",
    "n = 10\n",
    "\n",
    "## Probability of success\n",
    "p = 0.05\n",
    "\n",
    "## Number of defective items\n",
    "defect = [0, 1, 2]\n",
    "\n",
    "## Observed frequency\n",
    "observed_freq = [138, 53, 9]\n",
    "\n",
    "\n",
    "## Calculate probability for two observations\n",
    "probability = [stats.binom.pmf(i, n, p) for i in range(len(defect) -1)]\n",
    "\n",
    "## Probability for third observation.\n",
    "## This probability is one minus sum of probabilitites for all other observations\n",
    "probability.append(1-sum(probability))\n",
    "\n",
    "## Calculate expected value\n",
    "expected_value = [proba * obs for proba in probability] \n",
    "\n",
    "\n",
    "stats.chisquare(f_obs=observed_freq, f_exp=expected_value)"
   ]
  },
  {
   "cell_type": "code",
   "execution_count": null,
   "metadata": {},
   "outputs": [],
   "source": [
    "'''P-Value is less than 0.05 and we reject null hypothesis\n",
    "and conclude that sample data does not follow Binomial distribution.**'''"
   ]
  },
  {
   "cell_type": "markdown",
   "metadata": {},
   "source": [
    "## Question 4\n",
    "A researcher gathers information about the patterns of Physical Activity of children in the fifth grade of primary school of a public school. He defines three categories of physical activity (Low, Medium, High). He also inquires about the regular consumption of sugary drinks at school, and defines two categories (Yes = consumed, No = not consumed). We would like to evaluate if there is an association between patterns of physical activity and the consumption of sugary drinks for the children of this school, at a level of 5% significance. The results are in the following table: \n",
    "\n",
    "![](table4.png)"
   ]
  },
  {
   "cell_type": "code",
   "execution_count": 5,
   "metadata": {},
   "outputs": [
    {
     "data": {
      "text/plain": [
       "{'Test_Statistics': 10.712198008709638,\n",
       " 'P_Value': 0.004719280137040844,\n",
       " 'Degrees_of_Freedom': 2,\n",
       " 'Expected_Frequencies': array([[24.08421053, 19.70526316,  8.21052632],\n",
       "        [19.91578947, 16.29473684,  6.78947368]])}"
      ]
     },
     "execution_count": 5,
     "metadata": {},
     "output_type": "execute_result"
    }
   ],
   "source": [
    "#your answer here\n",
    "x_yes = [32, 14, 6]\n",
    "\n",
    "x_no = [12, 22, 9]\n",
    "\n",
    "table = np.array([x_yes, x_no])\n",
    "\n",
    "\n",
    "## Chi-square test of independence of variables in a contingency table.\n",
    "chi2, p_value, dof, expected = stats.chi2_contingency(observed=table)\n",
    "\n",
    "\n",
    "result = {\"Test_Statistics\": chi2,\n",
    "          \"P_Value\": p_value,\n",
    "          \"Degrees_of_Freedom\": dof,\n",
    "          \"Expected_Frequencies\": expected}\n",
    "\n",
    "\n",
    "\n",
    "result"
   ]
  },
  {
   "cell_type": "code",
   "execution_count": null,
   "metadata": {},
   "outputs": [],
   "source": [
    "'''As P-Value is less than 0.05 we reject the null hypothesis and conclude\n",
    "that there IS NO association between patterns of physical activity and the consumption of sugary drinks.'''"
   ]
  }
 ],
 "metadata": {
  "kernelspec": {
   "display_name": "Python 3",
   "language": "python",
   "name": "python3"
  },
  "language_info": {
   "codemirror_mode": {
    "name": "ipython",
    "version": 3
   },
   "file_extension": ".py",
   "mimetype": "text/x-python",
   "name": "python",
   "nbconvert_exporter": "python",
   "pygments_lexer": "ipython3",
   "version": "3.8.3"
  }
 },
 "nbformat": 4,
 "nbformat_minor": 2
}
